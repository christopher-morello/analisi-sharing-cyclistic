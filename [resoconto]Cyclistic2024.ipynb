{
 "cells": [
  {
   "cell_type": "markdown",
   "id": "78e226d3",
   "metadata": {},
   "source": [
    "# **Insight e raccomandazioni**"
   ]
  },
  {
   "cell_type": "markdown",
   "id": "3bf77b25",
   "metadata": {},
   "source": [
    "## 1. Introduzione \n",
    "Questa analisi nasce dalla necessità di comprendere i modelli di utilizzo del servizio di bike-sharing e di identificare le strategie più efficaci per convertire gli utenti occasionali (casual) in abbonati (member). Attraverso lo studio delle abitudini di viaggio, delle preferenze di mezzo e delle dinamiche di costo, l'obiettivo è fornire raccomandazioni mirate che incentivino la sottoscrizione di un abbonamento, trasformando l'uso sporadico del servizio in un'abitudine."
   ]
  },
  {
   "cell_type": "markdown",
   "id": "6a2fd13a",
   "metadata": {},
   "source": [
    "## 2. Panoramica dei risultati chiave\n",
    "\n",
    "### Differenze nelle abitudini di utilizzo\n",
    "\n",
    "- **Abbonati** annuali: Utilizzo costante durante la settimana lavorativa, con picchi nei giorni feriali per spostamenti casa-lavoro\n",
    "\n",
    "- **Utenti occasionali**: Utilizzo concentrato nei weekend (+40% rispetto ai giorni feriali), principalmente per attività ricreative e turistiche\n",
    "\n",
    "- **Durata media delle corse**: Gli utenti occasionali registrano corse più lunghe (25-30 minuti vs 12-15 minuti degli abbonati)\n",
    "\n",
    "### Stagionalità e tempistiche\n",
    "\n",
    "- Picco di utilizzo per entrambi i gruppi durante i mesi estivi (giugno-agosto)\n",
    "- Gli utenti occasionali mostrano maggiore variabilità stagionale rispetto agli abbonati\n",
    "- Fasce orarie preferite: utenti occasionali più attivi nel pomeriggio/sera, abbonati durante le ore di punta lavorative"
   ]
  },
  {
   "cell_type": "markdown",
   "id": "36b89d13",
   "metadata": {},
   "source": [
    "## 3. Analisi economica e punto di pareggio\n",
    "\n",
    "### Calcolo della convenienza\n",
    "Basandosi sui pattern di utilizzo identificati, **un utente occasionale raggiunge il punto di pareggio** con l'abbonamento annuale dopo circa **8-10 corse al mese**.\n",
    "\n",
    "### Opportunità di conversione\n",
    "\n",
    "**Gli utenti occasionali che usano il servizio almeno due volte al mese o che comprano pass giornalieri per più giorni** sono il **target** ideale per una conversione. Per loro, l'abbonamento non è solo un servizio, ma un vero e proprio **risparmio economico**."
   ]
  },
  {
   "cell_type": "markdown",
   "id": "91bb4af0",
   "metadata": {},
   "source": [
    "## 4. Raccomandazioni strategiche\n",
    "\n",
    "#### Differenze di utilizzo - Strategia di targeting\n",
    "\n",
    "Problema identificato: Gli utenti occasionali usano il servizio principalmente nel weekend per svago, mentre gli abbonati lo integrano nella routine quotidiana.\n",
    "\n",
    "**Raccomandazione**:\n",
    "\n",
    "- Creare messaggi pubblicitari specifici per il weekend che intercettino gli utenti occasionali nel loro momento di utilizzo\n",
    "- Sviluppare contenuti che mostrano come l'abbonamento può essere conveniente anche per uso ricreativo regolare\n",
    "\n",
    "#### Motivazioni per l'abbonamento\n",
    "\n",
    "Problema identificato: Gli utenti occasionali non percepiscono chiaramente il valore economico dell'abbonamento per il loro pattern di utilizzo.\n",
    "\n",
    "**Raccomandazioni**:\n",
    "\n",
    "- Calcolatore di risparmio: integrare nell'app uno strumento che mostra il risparmio potenziale basato sull'utilizzo dell'ultimo mese\n",
    "\n",
    "- Confronto costi trasparente: Creare infografiche che confrontano il costo di 8-10 corse singole vs abbonamento mensile/annuale\n",
    "\n",
    "- Prova gratuita strategica: Offrire 7 giorni di abbonamento gratuito agli utenti che hanno fatto più di 6 corse nell'ultimo mese\n",
    "\n",
    "#### Strategia Digital Media - canali e contenuti\n",
    "\n",
    "Obiettivo: raggiungere gli utenti occasionali nei momenti e luoghi giusti con messaggi personalizzati.\n",
    "\n",
    "\n",
    "- **Social Media Marketing**\n",
    "\n",
    "  - Facebook/Instagram Ads: Campagne geo-localizzate attive principalmente venerdì-domenica\n",
    "  - Contenuti video: Testimonianze brevi di utenti che spiegano il loro passaggio da occasionale ad abbonato\n",
    "  - Stories interattive: Sondaggi \"Quanto spendi in corse Cyclistic al mese?\" con reveal del risparmio potenziale\n",
    "\n",
    "- **Email Marketing**\n",
    "\n",
    "  - Trigger automatici: Email dopo 5 corse in 30 giorni con calcolo personalizzato del risparmio\n",
    "  - Newsletter weekend: Consigli per esplorare la città in bici + reminder sui vantaggi dell'abbonamento\n",
    "\n",
    "- **Ottimizzazione App/Sito**\n",
    "\n",
    "  - Tracker spesa visivo: Dashboard che mostra la spesa cumulativa degli utenti occasionali\n",
    "  - Pop-up intelligenti: Notifiche contestuali quando l'utente sta per superare il costo dell'abbonamento mensile\n",
    "\n"
   ]
  },
  {
   "cell_type": "markdown",
   "id": "d94fd2d8",
   "metadata": {},
   "source": []
  }
 ],
 "metadata": {
  "language_info": {
   "name": "python"
  }
 },
 "nbformat": 4,
 "nbformat_minor": 5
}
