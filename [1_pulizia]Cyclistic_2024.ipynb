{
 "cells": [
  {
   "cell_type": "markdown",
   "id": "d951ff24",
   "metadata": {},
   "source": [
    "# Cyclistic, come può un sistema di bikesharing raggiungere rapidamente il successo?\n",
    "\n",
    "**Guidare la strategia marketing attraverso i dati.**\n",
    "\n",
    "## Introduzione\n",
    "\n",
    "In questa analisi, esplorerò i dati di un'ipotetica azienda di bikesharing, Cyclistic, con l'obiettivo di comprendere come gli utenti occasionali e gli abbonati utilizzano il servizio, un elemento cruciale per garantire la sostenibilità e la crescita dell'azienda. \n",
    "\n",
    "Sulla base di queste informazioni, verrà elaborato un piano marketing mirato ad aumentare il numero degli abbonati.\n",
    "\n",
    "## Dataset\n",
    "\n",
    "I dati utilizzati per questo caso studio provengono da un dataset pubblico fornito da [Divvy Bikes](https://divvy-tripdata.s3.amazonaws.com/index.html), un servizio di bikesharing attivo nella città di Chicago. Questo dataset contiene informazioni dettagliate sulle singole corse, tra cui un identificativo univoco(delle singole corse), le stazioni di partenza e arrivo, la tipologia di bicicletta e la durata dei viaggi.  \n",
    "Per questa analisi annuale ho utilizzato i dati riguardanti l'anno 2024. \n",
    "\n",
    "I dati vengono messi a disposizione con la seguente [licenza](https://divvybikes.com/data-license-agreement)\n",
    "\n",
    "## Metodologia\n",
    "\n",
    "Per rispondere alla domanda di ricerca, ho seguito i seguenti passaggi del processo dell'analisi dei dati: chiedere, preparare, elaborare, analizzare, condividire e agire. \n",
    "\n",
    "1.  **Definizione degli obiettivi e domande iniziali:**\n",
    "\n",
    "L'obiettivo aziendale di Cyclistic è massimizzare il numero di abbonati annuali, poiché risultano più redditizi dei ciclisti occasionali (utenti con biglietti singoli o giornalieri). Invece di concentrarsi su nuovi clienti, la strategia è convertire gli utenti occasionali esistenti in abbonati annuali, dato che conoscono già il servizio.\n",
    "\n",
    "Per raggiungere questo obiettivo, occorre comprendere le differenze di utilizzo tra abbonati e utenti occasionali, identificare i motivi per cui i ciclisti occasionali dovrebbero abbonarsi e analizzare come i media digitali possono supportare le strategie di marketing volte alla conversione, utilizzando i dati storici dei viaggi.\n",
    "\n",
    "In sintesi, la domanda chiave nella fase \"chiedere\" è: \"Come possiamo usare i dati per convertire efficacemente i ciclisti occasionali in abbonati annuali e aumentare la redditività di Cyclistic?\"\n",
    "\n",
    "Tre domande inoltre guideranno il futuro programma di marketing:\n",
    "1. In che modo i membri annuali e i ciclisti occasionali utilizzano diversamente le biciclette Cyclistic?\n",
    "2. Per quale motivo i ciclisti occasionali dovrebbero acquistare un abbonamento annuale a Cyclistic?\n",
    "3. In che modo Cyclistic può utilizzare i media digitali per convincere i ciclisti occasionali a diventare abbonati?"
   ]
  },
  {
   "cell_type": "markdown",
   "id": "54310357",
   "metadata": {},
   "source": [
    "2.  **Preparazione dei dati:**\n",
    "\n",
    "In questa fase, l'obiettivo è caricare, esplorare e pulire i dati grezzi forniti da Divvy Bikes per l'anno 2024, assicurandomi che i dati siano in un formato utilizzabile per le analisi successive e gestendo eventuali problemi di qualità come valori mancanti o incoerenze.\n",
    "\n",
    "È importante sottolineare che i dati a cui abbiamo avuto accesso presentano caratteristiche di elevata qualità:\n",
    "\n",
    "* **Affidabilità:** Le informazioni sembrano essere accurate e consistenti, riflettendo l'operatività reale del servizio.\n",
    "* **Originalità:** Il dataset proviene direttamente dalla fonte, garantendo l'integrità dei dati relativi alle corse.\n",
    "* **Completezza:** Il dataset offre un insieme ricco di variabili essenziali per l'analisi del comportamento degli utenti e delle dinamiche di utilizzo.\n",
    "* **Dati aggiornati:** Essendo dati storici recenti (anno 2024), forniscono una panoramica attuale delle tendenze di utilizzo del servizio.\n",
    "* **Fonte:** La chiara indicazione della fonte permette la tracciabilità e la verifica dell'origine dei dati.\n",
    "\n",
    "Queste caratteristiche mi permettono di procedere con la fase di elaborazione e analisi con una solida base di informazioni affidabili e pertinenti per raggiungere gli obiettivi del caso studio.\n",
    "\n",
    "Occorre tenere a mente che i dati forniti non consentono, per questioni di privacy, di risalire alle informazioni personali dei ciclisti.\n",
    "\n",
    "Il dataset si presenta in formato CSV, strutturato in tabelle.\n",
    "\n",
    "\n",
    "**Anteprima del nome delle colonne e descrizione:**\n",
    "\n",
    "\n",
    "\n",
    "**Identificatori e timing**:\n",
    "\n",
    "- ride_id: ID univoco per ogni corsa\n",
    "- started_at / ended_at: Data e ora di inizio/fine della corsa\n",
    "\n",
    "**Tipo di mezzo**:\n",
    "\n",
    "- rideable_type: Tipo di bicicletta (classic_bike, electric_bike, docked_bike)\n",
    "\n",
    "**Stazioni**:\n",
    "\n",
    "- start_station_name / end_station_name: Nome delle stazioni di partenza/arrivo\n",
    "- start_station_id / end_station_id: ID numerico delle stazioni\n",
    "\n",
    "**Coordinate geografiche**:\n",
    "\n",
    "- start_lat / start_lng: Latitudine/longitudine punto partenza\n",
    "end_lat / end_lng: Latitudine/longitudine punto arrivo\n",
    "\n",
    "**Tipologia utente**:\n",
    "\n",
    "- member_casual: Due tipi di riders: casual riders (occasionali) e member (abbonati)\n"
   ]
  },
  {
   "cell_type": "markdown",
   "id": "6abee022",
   "metadata": {},
   "source": [
    "## 1. Preparazione dati"
   ]
  },
  {
   "cell_type": "markdown",
   "id": "0c15c8ca",
   "metadata": {},
   "source": [
    "### 1.1 Importazione librerie e pacchetti"
   ]
  },
  {
   "cell_type": "code",
   "execution_count": 1,
   "id": "206cfa87",
   "metadata": {},
   "outputs": [],
   "source": [
    "import pandas as pd\n",
    "import numpy as np\n",
    "import matplotlib.pyplot as plt\n",
    "import seaborn as sns"
   ]
  },
  {
   "cell_type": "markdown",
   "id": "cc19d88d",
   "metadata": {},
   "source": [
    "### 1.2 Importazione dataset"
   ]
  },
  {
   "cell_type": "code",
   "execution_count": 2,
   "id": "9026b158",
   "metadata": {},
   "outputs": [],
   "source": [
    "data = pd.read_csv('divvy2024.csv', index_col=0)"
   ]
  },
  {
   "cell_type": "code",
   "execution_count": 3,
   "id": "0f98fc0f",
   "metadata": {},
   "outputs": [],
   "source": [
    "# creo una copia del dataframe e lo assegno alla variabile divvy\n",
    "divvy = data.copy()"
   ]
  },
  {
   "cell_type": "markdown",
   "id": "26b418d5",
   "metadata": {},
   "source": [
    "### 1.3 Panoramica dataset"
   ]
  },
  {
   "cell_type": "markdown",
   "id": "84cfc1e7",
   "metadata": {},
   "source": [
    "**Visualizzare le prime righe**"
   ]
  },
  {
   "cell_type": "code",
   "execution_count": 4,
   "id": "ad2f3b3f",
   "metadata": {},
   "outputs": [
    {
     "data": {
      "application/vnd.microsoft.datawrangler.viewer.v0+json": {
       "columns": [
        {
         "name": "index",
         "rawType": "int64",
         "type": "integer"
        },
        {
         "name": "ride_id",
         "rawType": "object",
         "type": "string"
        },
        {
         "name": "rideable_type",
         "rawType": "object",
         "type": "string"
        },
        {
         "name": "started_at",
         "rawType": "object",
         "type": "string"
        },
        {
         "name": "ended_at",
         "rawType": "object",
         "type": "string"
        },
        {
         "name": "start_station_name",
         "rawType": "object",
         "type": "string"
        },
        {
         "name": "start_station_id",
         "rawType": "object",
         "type": "string"
        },
        {
         "name": "end_station_name",
         "rawType": "object",
         "type": "string"
        },
        {
         "name": "end_station_id",
         "rawType": "object",
         "type": "string"
        },
        {
         "name": "start_lat",
         "rawType": "float64",
         "type": "float"
        },
        {
         "name": "start_lng",
         "rawType": "float64",
         "type": "float"
        },
        {
         "name": "end_lat",
         "rawType": "float64",
         "type": "float"
        },
        {
         "name": "end_lng",
         "rawType": "float64",
         "type": "float"
        },
        {
         "name": "member_casual",
         "rawType": "object",
         "type": "string"
        }
       ],
       "ref": "6af86b4f-33ef-4d35-9451-a9cedbaed11d",
       "rows": [
        [
         "0",
         "C1D650626C8C899A",
         "electric_bike",
         "2024-01-12 15:30:27",
         "2024-01-12 15:37:59",
         "Wells St & Elm St",
         "KA1504000135",
         "Kingsbury St & Kinzie St",
         "KA1503000043",
         "41.903267384",
         "-87.634736776",
         "41.88917683258",
         "-87.6385057718",
         "member"
        ],
        [
         "1",
         "EECD38BDB25BFCB0",
         "electric_bike",
         "2024-01-08 15:45:46",
         "2024-01-08 15:52:59",
         "Wells St & Elm St",
         "KA1504000135",
         "Kingsbury St & Kinzie St",
         "KA1503000043",
         "41.9029365",
         "-87.63444016666666",
         "41.88917683258",
         "-87.6385057718",
         "member"
        ],
        [
         "2",
         "F4A9CE78061F17F7",
         "electric_bike",
         "2024-01-27 12:27:19",
         "2024-01-27 12:35:19",
         "Wells St & Elm St",
         "KA1504000135",
         "Kingsbury St & Kinzie St",
         "KA1503000043",
         "41.902951333333334",
         "-87.63447033333334",
         "41.88917683258",
         "-87.6385057718",
         "member"
        ],
        [
         "3",
         "0A0D9E15EE50B171",
         "classic_bike",
         "2024-01-29 16:26:17",
         "2024-01-29 16:56:06",
         "Wells St & Randolph St",
         "TA1305000030",
         "Larrabee St & Webster Ave",
         "13193",
         "41.884295",
         "-87.633963",
         "41.921822",
         "-87.64414",
         "member"
        ],
        [
         "4",
         "33FFC9805E3EFF9A",
         "classic_bike",
         "2024-01-31 05:43:23",
         "2024-01-31 06:09:35",
         "Lincoln Ave & Waveland Ave",
         "13253",
         "Kingsbury St & Kinzie St",
         "KA1503000043",
         "41.948797",
         "-87.675278",
         "41.88917683258",
         "-87.6385057718",
         "member"
        ]
       ],
       "shape": {
        "columns": 13,
        "rows": 5
       }
      },
      "text/html": [
       "<div>\n",
       "<style scoped>\n",
       "    .dataframe tbody tr th:only-of-type {\n",
       "        vertical-align: middle;\n",
       "    }\n",
       "\n",
       "    .dataframe tbody tr th {\n",
       "        vertical-align: top;\n",
       "    }\n",
       "\n",
       "    .dataframe thead th {\n",
       "        text-align: right;\n",
       "    }\n",
       "</style>\n",
       "<table border=\"1\" class=\"dataframe\">\n",
       "  <thead>\n",
       "    <tr style=\"text-align: right;\">\n",
       "      <th></th>\n",
       "      <th>ride_id</th>\n",
       "      <th>rideable_type</th>\n",
       "      <th>started_at</th>\n",
       "      <th>ended_at</th>\n",
       "      <th>start_station_name</th>\n",
       "      <th>start_station_id</th>\n",
       "      <th>end_station_name</th>\n",
       "      <th>end_station_id</th>\n",
       "      <th>start_lat</th>\n",
       "      <th>start_lng</th>\n",
       "      <th>end_lat</th>\n",
       "      <th>end_lng</th>\n",
       "      <th>member_casual</th>\n",
       "    </tr>\n",
       "  </thead>\n",
       "  <tbody>\n",
       "    <tr>\n",
       "      <th>0</th>\n",
       "      <td>C1D650626C8C899A</td>\n",
       "      <td>electric_bike</td>\n",
       "      <td>2024-01-12 15:30:27</td>\n",
       "      <td>2024-01-12 15:37:59</td>\n",
       "      <td>Wells St &amp; Elm St</td>\n",
       "      <td>KA1504000135</td>\n",
       "      <td>Kingsbury St &amp; Kinzie St</td>\n",
       "      <td>KA1503000043</td>\n",
       "      <td>41.903267</td>\n",
       "      <td>-87.634737</td>\n",
       "      <td>41.889177</td>\n",
       "      <td>-87.638506</td>\n",
       "      <td>member</td>\n",
       "    </tr>\n",
       "    <tr>\n",
       "      <th>1</th>\n",
       "      <td>EECD38BDB25BFCB0</td>\n",
       "      <td>electric_bike</td>\n",
       "      <td>2024-01-08 15:45:46</td>\n",
       "      <td>2024-01-08 15:52:59</td>\n",
       "      <td>Wells St &amp; Elm St</td>\n",
       "      <td>KA1504000135</td>\n",
       "      <td>Kingsbury St &amp; Kinzie St</td>\n",
       "      <td>KA1503000043</td>\n",
       "      <td>41.902937</td>\n",
       "      <td>-87.634440</td>\n",
       "      <td>41.889177</td>\n",
       "      <td>-87.638506</td>\n",
       "      <td>member</td>\n",
       "    </tr>\n",
       "    <tr>\n",
       "      <th>2</th>\n",
       "      <td>F4A9CE78061F17F7</td>\n",
       "      <td>electric_bike</td>\n",
       "      <td>2024-01-27 12:27:19</td>\n",
       "      <td>2024-01-27 12:35:19</td>\n",
       "      <td>Wells St &amp; Elm St</td>\n",
       "      <td>KA1504000135</td>\n",
       "      <td>Kingsbury St &amp; Kinzie St</td>\n",
       "      <td>KA1503000043</td>\n",
       "      <td>41.902951</td>\n",
       "      <td>-87.634470</td>\n",
       "      <td>41.889177</td>\n",
       "      <td>-87.638506</td>\n",
       "      <td>member</td>\n",
       "    </tr>\n",
       "    <tr>\n",
       "      <th>3</th>\n",
       "      <td>0A0D9E15EE50B171</td>\n",
       "      <td>classic_bike</td>\n",
       "      <td>2024-01-29 16:26:17</td>\n",
       "      <td>2024-01-29 16:56:06</td>\n",
       "      <td>Wells St &amp; Randolph St</td>\n",
       "      <td>TA1305000030</td>\n",
       "      <td>Larrabee St &amp; Webster Ave</td>\n",
       "      <td>13193</td>\n",
       "      <td>41.884295</td>\n",
       "      <td>-87.633963</td>\n",
       "      <td>41.921822</td>\n",
       "      <td>-87.644140</td>\n",
       "      <td>member</td>\n",
       "    </tr>\n",
       "    <tr>\n",
       "      <th>4</th>\n",
       "      <td>33FFC9805E3EFF9A</td>\n",
       "      <td>classic_bike</td>\n",
       "      <td>2024-01-31 05:43:23</td>\n",
       "      <td>2024-01-31 06:09:35</td>\n",
       "      <td>Lincoln Ave &amp; Waveland Ave</td>\n",
       "      <td>13253</td>\n",
       "      <td>Kingsbury St &amp; Kinzie St</td>\n",
       "      <td>KA1503000043</td>\n",
       "      <td>41.948797</td>\n",
       "      <td>-87.675278</td>\n",
       "      <td>41.889177</td>\n",
       "      <td>-87.638506</td>\n",
       "      <td>member</td>\n",
       "    </tr>\n",
       "  </tbody>\n",
       "</table>\n",
       "</div>"
      ],
      "text/plain": [
       "            ride_id  rideable_type           started_at             ended_at  \\\n",
       "0  C1D650626C8C899A  electric_bike  2024-01-12 15:30:27  2024-01-12 15:37:59   \n",
       "1  EECD38BDB25BFCB0  electric_bike  2024-01-08 15:45:46  2024-01-08 15:52:59   \n",
       "2  F4A9CE78061F17F7  electric_bike  2024-01-27 12:27:19  2024-01-27 12:35:19   \n",
       "3  0A0D9E15EE50B171   classic_bike  2024-01-29 16:26:17  2024-01-29 16:56:06   \n",
       "4  33FFC9805E3EFF9A   classic_bike  2024-01-31 05:43:23  2024-01-31 06:09:35   \n",
       "\n",
       "           start_station_name start_station_id           end_station_name  \\\n",
       "0           Wells St & Elm St     KA1504000135   Kingsbury St & Kinzie St   \n",
       "1           Wells St & Elm St     KA1504000135   Kingsbury St & Kinzie St   \n",
       "2           Wells St & Elm St     KA1504000135   Kingsbury St & Kinzie St   \n",
       "3      Wells St & Randolph St     TA1305000030  Larrabee St & Webster Ave   \n",
       "4  Lincoln Ave & Waveland Ave            13253   Kingsbury St & Kinzie St   \n",
       "\n",
       "  end_station_id  start_lat  start_lng    end_lat    end_lng member_casual  \n",
       "0   KA1503000043  41.903267 -87.634737  41.889177 -87.638506        member  \n",
       "1   KA1503000043  41.902937 -87.634440  41.889177 -87.638506        member  \n",
       "2   KA1503000043  41.902951 -87.634470  41.889177 -87.638506        member  \n",
       "3          13193  41.884295 -87.633963  41.921822 -87.644140        member  \n",
       "4   KA1503000043  41.948797 -87.675278  41.889177 -87.638506        member  "
      ]
     },
     "execution_count": 4,
     "metadata": {},
     "output_type": "execute_result"
    }
   ],
   "source": [
    "divvy.head()"
   ]
  },
  {
   "cell_type": "markdown",
   "id": "b4afcc5b",
   "metadata": {},
   "source": [
    "**Numero di righe e colonne**"
   ]
  },
  {
   "cell_type": "code",
   "execution_count": 5,
   "id": "2a1a52a8",
   "metadata": {},
   "outputs": [
    {
     "data": {
      "text/plain": [
       "(5860568, 13)"
      ]
     },
     "execution_count": 5,
     "metadata": {},
     "output_type": "execute_result"
    }
   ],
   "source": [
    "data.shape"
   ]
  },
  {
   "cell_type": "markdown",
   "id": "d820c330",
   "metadata": {},
   "source": [
    "Il dataset ha 5,86M di righe e 13 colonne."
   ]
  },
  {
   "cell_type": "markdown",
   "id": "005837f1",
   "metadata": {},
   "source": [
    "**Tipi di dati**"
   ]
  },
  {
   "cell_type": "code",
   "execution_count": 6,
   "id": "6f93ab79",
   "metadata": {},
   "outputs": [
    {
     "name": "stdout",
     "output_type": "stream",
     "text": [
      "ride_id                object\n",
      "rideable_type          object\n",
      "started_at             object\n",
      "ended_at               object\n",
      "start_station_name     object\n",
      "start_station_id       object\n",
      "end_station_name       object\n",
      "end_station_id         object\n",
      "start_lat             float64\n",
      "start_lng             float64\n",
      "end_lat               float64\n",
      "end_lng               float64\n",
      "member_casual          object\n",
      "dtype: object\n"
     ]
    }
   ],
   "source": [
    "print(data.dtypes)"
   ]
  },
  {
   "cell_type": "markdown",
   "id": "f6fda7d9",
   "metadata": {},
   "source": [
    "## 2. Pulizia ed elaborazione"
   ]
  },
  {
   "cell_type": "markdown",
   "id": "ba7bf5bc",
   "metadata": {},
   "source": [
    "### 2.1 Gestione valori mancanti"
   ]
  },
  {
   "cell_type": "markdown",
   "id": "120162f7",
   "metadata": {},
   "source": [
    "**Eliminazione colonne superflue**"
   ]
  },
  {
   "cell_type": "code",
   "execution_count": 7,
   "id": "f57b8ca8",
   "metadata": {},
   "outputs": [],
   "source": [
    "divvy.drop([\"start_station_id\", \"end_station_id\"], axis=1, inplace=True)"
   ]
  },
  {
   "cell_type": "markdown",
   "id": "952e8c64",
   "metadata": {},
   "source": [
    "**Presenza valori mancanti**"
   ]
  },
  {
   "cell_type": "code",
   "execution_count": 8,
   "id": "f34be672",
   "metadata": {},
   "outputs": [
    {
     "data": {
      "application/vnd.microsoft.datawrangler.viewer.v0+json": {
       "columns": [
        {
         "name": "index",
         "rawType": "object",
         "type": "string"
        },
        {
         "name": "0",
         "rawType": "int64",
         "type": "integer"
        }
       ],
       "ref": "fa6ac3fa-bc73-40d5-99f1-54c3c7112067",
       "rows": [
        [
         "ride_id",
         "0"
        ],
        [
         "rideable_type",
         "0"
        ],
        [
         "started_at",
         "0"
        ],
        [
         "ended_at",
         "0"
        ],
        [
         "start_station_name",
         "1073951"
        ],
        [
         "end_station_name",
         "1104653"
        ],
        [
         "start_lat",
         "0"
        ],
        [
         "start_lng",
         "0"
        ],
        [
         "end_lat",
         "7232"
        ],
        [
         "end_lng",
         "7232"
        ],
        [
         "member_casual",
         "0"
        ]
       ],
       "shape": {
        "columns": 1,
        "rows": 11
       }
      },
      "text/plain": [
       "ride_id                     0\n",
       "rideable_type               0\n",
       "started_at                  0\n",
       "ended_at                    0\n",
       "start_station_name    1073951\n",
       "end_station_name      1104653\n",
       "start_lat                   0\n",
       "start_lng                   0\n",
       "end_lat                  7232\n",
       "end_lng                  7232\n",
       "member_casual               0\n",
       "dtype: int64"
      ]
     },
     "execution_count": 8,
     "metadata": {},
     "output_type": "execute_result"
    }
   ],
   "source": [
    "divvy.isnull().sum()"
   ]
  },
  {
   "cell_type": "markdown",
   "id": "7957e4d3",
   "metadata": {},
   "source": [
    "**Sostituzione valori mancanti**"
   ]
  },
  {
   "cell_type": "markdown",
   "id": "46f27bba",
   "metadata": {},
   "source": [
    "Per affrontare l'elevato numero di valori mancanti nelle colonne delle stazioni di partenza e arrivo (oltre un milione), si utilizzeranno i dati di latitudine e longitudine. L'obiettivo è imputare i nomi delle stazioni mancanti trovando una corrispondenza con le coordinate esistenti.\n",
    "\n",
    "A tal fine, si procederà con l'**arrotondamento delle coordinate a due cifre decimali**. Questa operazione è necessaria per standardizzare i valori e permettere una mappatura efficiente e precisa tra le coordinate e le rispettive stazioni, risolvendo così il problema della dispersione dei dati."
   ]
  },
  {
   "cell_type": "markdown",
   "id": "d90d75f1",
   "metadata": {},
   "source": [
    "> Colonna `start_station_name`"
   ]
  },
  {
   "cell_type": "code",
   "execution_count": 9,
   "id": "ff49feb1",
   "metadata": {},
   "outputs": [],
   "source": [
    "# 1. Arrotondamento delle coordinate\n",
    "divvy['start_lat_rounded'] = divvy['start_lat'].round(2)\n",
    "divvy['start_lng_rounded'] = divvy['start_lng'].round(2)\n",
    "\n",
    "# 2. Creazione della mappatura (mapping) per le stazioni di partenza\n",
    "# Utilizziamo solo le righe senza valori mancanti nel nome della stazione\n",
    "# per creare la nostra \"tabella di verità\"\n",
    "start_mapping = divvy.dropna(subset=['start_station_name']).drop_duplicates(\n",
    "    subset=['start_lat_rounded', 'start_lng_rounded']\n",
    ").set_index(\n",
    "    ['start_lat_rounded', 'start_lng_rounded']\n",
    ")['start_station_name'].to_dict()\n",
    "\n",
    "# 3. Imputazione dei valori mancanti\n",
    "# Creiamo una nuova colonna temporanea con le coordinate arrotondate\n",
    "divvy['start_coords'] = list(zip(divvy['start_lat_rounded'], divvy['start_lng_rounded']))\n",
    "\n",
    "# Applichiamo la mappatura per riempire i valori mancanti\n",
    "divvy['start_station_name'] = divvy['start_station_name'].fillna(\n",
    "    divvy['start_coords'].map(start_mapping)\n",
    ")\n",
    "\n",
    "# 4. Pulizia\n",
    "divvy = divvy.drop(columns=['start_lat_rounded', 'start_lng_rounded', 'start_coords'])"
   ]
  },
  {
   "cell_type": "markdown",
   "id": "c6ac021b",
   "metadata": {},
   "source": [
    "> Colonna `end_station_name`"
   ]
  },
  {
   "cell_type": "code",
   "execution_count": 10,
   "id": "b0caa0f5",
   "metadata": {},
   "outputs": [],
   "source": [
    "# 1. Arrotondamento delle coordinate\n",
    "divvy['end_lat_rounded'] = divvy['end_lat'].round(2)\n",
    "divvy['end_lng_rounded'] = divvy['end_lng'].round(2)\n",
    "\n",
    "# 2. Creazione della mappatura (mapping) per le stazioni di partenza\n",
    "# Utilizziamo solo le righe senza valori mancanti nel nome della stazione\n",
    "# per creare la nostra \"tabella di verità\"\n",
    "end_mapping = divvy.dropna(subset=['end_station_name']).drop_duplicates(\n",
    "    subset=['end_lat_rounded', 'end_lng_rounded']\n",
    ").set_index(\n",
    "    ['end_lat_rounded', 'end_lng_rounded']\n",
    ")['end_station_name'].to_dict()\n",
    "\n",
    "# 3. Imputazione dei valori mancanti\n",
    "# Creiamo una nuova colonna temporanea con le coordinate arrotondate\n",
    "divvy['end_coords'] = list(zip(divvy['end_lat_rounded'], divvy['end_lng_rounded']))\n",
    "\n",
    "# Applichiamo la mappatura per riempire i valori mancanti\n",
    "divvy['end_station_name'] = divvy['end_station_name'].fillna(\n",
    "    divvy['end_coords'].map(end_mapping)\n",
    ")\n",
    "\n",
    "# 4. Pulizia\n",
    "divvy = divvy.drop(columns=['end_lat_rounded', 'end_lng_rounded', 'end_coords'])"
   ]
  },
  {
   "cell_type": "markdown",
   "id": "db71f7cf",
   "metadata": {},
   "source": [
    "Check."
   ]
  },
  {
   "cell_type": "code",
   "execution_count": 11,
   "id": "9a6a674f",
   "metadata": {},
   "outputs": [
    {
     "data": {
      "application/vnd.microsoft.datawrangler.viewer.v0+json": {
       "columns": [
        {
         "name": "index",
         "rawType": "object",
         "type": "string"
        },
        {
         "name": "0",
         "rawType": "int64",
         "type": "integer"
        }
       ],
       "ref": "18f2ab94-a9f6-4e9b-bb7b-7bc1a0afbc9f",
       "rows": [
        [
         "ride_id",
         "0"
        ],
        [
         "rideable_type",
         "0"
        ],
        [
         "started_at",
         "0"
        ],
        [
         "ended_at",
         "0"
        ],
        [
         "start_station_name",
         "4689"
        ],
        [
         "end_station_name",
         "43373"
        ],
        [
         "start_lat",
         "0"
        ],
        [
         "start_lng",
         "0"
        ],
        [
         "end_lat",
         "7232"
        ],
        [
         "end_lng",
         "7232"
        ],
        [
         "member_casual",
         "0"
        ]
       ],
       "shape": {
        "columns": 1,
        "rows": 11
       }
      },
      "text/plain": [
       "ride_id                   0\n",
       "rideable_type             0\n",
       "started_at                0\n",
       "ended_at                  0\n",
       "start_station_name     4689\n",
       "end_station_name      43373\n",
       "start_lat                 0\n",
       "start_lng                 0\n",
       "end_lat                7232\n",
       "end_lng                7232\n",
       "member_casual             0\n",
       "dtype: int64"
      ]
     },
     "execution_count": 11,
     "metadata": {},
     "output_type": "execute_result"
    }
   ],
   "source": [
    "divvy.isnull().sum()"
   ]
  },
  {
   "cell_type": "markdown",
   "id": "ce98e8c2",
   "metadata": {},
   "source": [
    "**Verifica degli altri dati mancanti**"
   ]
  },
  {
   "cell_type": "markdown",
   "id": "7fb88343",
   "metadata": {},
   "source": [
    "Creazione database dove sono presenti almeno un valore mancante per riga."
   ]
  },
  {
   "cell_type": "code",
   "execution_count": 12,
   "id": "31b10686",
   "metadata": {},
   "outputs": [],
   "source": [
    "divvy_missing = divvy[\n",
    "    divvy['start_station_name'].isnull() | divvy['end_station_name'].isnull() | divvy['end_lat'].isnull() | divvy['end_lng'].isnull()\n",
    "]\n"
   ]
  },
  {
   "cell_type": "markdown",
   "id": "ec4d35be",
   "metadata": {},
   "source": [
    "Dove sono concentrati queste voci?"
   ]
  },
  {
   "cell_type": "code",
   "execution_count": 13,
   "id": "9532d216",
   "metadata": {},
   "outputs": [
    {
     "data": {
      "application/vnd.microsoft.datawrangler.viewer.v0+json": {
       "columns": [
        {
         "name": "('rideable_type', 'member_casual')",
         "rawType": "object",
         "type": "unknown"
        },
        {
         "name": "count",
         "rawType": "int64",
         "type": "integer"
        }
       ],
       "ref": "ef93ce6b-90d3-4b04-915c-8250f280ff41",
       "rows": [
        [
         "('classic_bike', 'casual')",
         "5881"
        ],
        [
         "('classic_bike', 'member')",
         "1351"
        ],
        [
         "('electric_bike', 'casual')",
         "19879"
        ],
        [
         "('electric_bike', 'member')",
         "19327"
        ],
        [
         "('electric_scooter', 'casual')",
         "280"
        ],
        [
         "('electric_scooter', 'member')",
         "81"
        ]
       ],
       "shape": {
        "columns": 1,
        "rows": 6
       }
      },
      "text/plain": [
       "rideable_type     member_casual\n",
       "classic_bike      casual            5881\n",
       "                  member            1351\n",
       "electric_bike     casual           19879\n",
       "                  member           19327\n",
       "electric_scooter  casual             280\n",
       "                  member              81\n",
       "Name: count, dtype: int64"
      ]
     },
     "execution_count": 13,
     "metadata": {},
     "output_type": "execute_result"
    }
   ],
   "source": [
    "divvy_missing.groupby('rideable_type')['member_casual'].value_counts()"
   ]
  },
  {
   "cell_type": "code",
   "execution_count": 14,
   "id": "c6a3259d",
   "metadata": {},
   "outputs": [
    {
     "data": {
      "application/vnd.microsoft.datawrangler.viewer.v0+json": {
       "columns": [
        {
         "name": "index",
         "rawType": "int64",
         "type": "integer"
        },
        {
         "name": "ride_id",
         "rawType": "object",
         "type": "string"
        },
        {
         "name": "rideable_type",
         "rawType": "object",
         "type": "string"
        },
        {
         "name": "started_at",
         "rawType": "object",
         "type": "string"
        },
        {
         "name": "ended_at",
         "rawType": "object",
         "type": "string"
        },
        {
         "name": "start_station_name",
         "rawType": "object",
         "type": "string"
        },
        {
         "name": "end_station_name",
         "rawType": "object",
         "type": "unknown"
        },
        {
         "name": "start_lat",
         "rawType": "float64",
         "type": "float"
        },
        {
         "name": "start_lng",
         "rawType": "float64",
         "type": "float"
        },
        {
         "name": "end_lat",
         "rawType": "float64",
         "type": "float"
        },
        {
         "name": "end_lng",
         "rawType": "float64",
         "type": "float"
        },
        {
         "name": "member_casual",
         "rawType": "object",
         "type": "string"
        }
       ],
       "ref": "109b1ca9-bee6-4a1c-b9bf-bf8e7a8a5f9b",
       "rows": [
        [
         "177842",
         "15E4F648E71C3BC4",
         "electric_bike",
         "2024-12-25 13:58:41.886",
         "2024-12-25 14:06:56.098",
         "Evanston Civic Center",
         null,
         "42.057044",
         "-87.686554",
         "42.04",
         "-87.69",
         "casual"
        ],
        [
         "177847",
         "0C9491F36CE0B3CA",
         "electric_bike",
         "2024-12-24 14:58:58.261",
         "2024-12-24 16:39:18.343",
         "Public Rack - Keating & Peterson",
         null,
         "41.990159",
         "-87.747183",
         "41.98",
         "-87.73",
         "member"
        ],
        [
         "177852",
         "5488C321313661C9",
         "electric_bike",
         "2024-12-20 12:59:36.823",
         "2024-12-20 13:09:01.506",
         "Public Rack - Keating & Peterson",
         null,
         "41.990159",
         "-87.747183",
         "41.98",
         "-87.73",
         "member"
        ],
        [
         "177964",
         "ACF06640F94F0668",
         "electric_bike",
         "2024-12-15 19:53:33.506",
         "2024-12-15 19:59:58.461",
         "Benson Ave & Church St",
         null,
         "42.048214",
         "-87.683485",
         "42.04",
         "-87.68",
         "member"
        ],
        [
         "178001",
         "114842BD39C6C494",
         "electric_bike",
         "2024-12-19 14:45:56.602",
         "2024-12-19 14:48:22.050",
         "Benson Ave & Church St",
         null,
         "42.048214",
         "-87.683485",
         "42.05",
         "-87.69",
         "casual"
        ],
        [
         "178011",
         "AE9B07429488DA79",
         "electric_bike",
         "2024-12-22 22:56:10.639",
         "2024-12-22 23:02:52.301",
         "Southport Ave & Belmont Ave",
         null,
         "41.939434886",
         "-87.6637609",
         "41.95",
         "-87.64",
         "member"
        ],
        [
         "178021",
         "5924C24A487EDB9C",
         "electric_bike",
         "2024-12-02 09:08:52.100",
         "2024-12-02 09:16:05.765",
         "Benson Ave & Church St",
         null,
         "42.048214",
         "-87.683485",
         "42.06",
         "-87.67",
         "member"
        ],
        [
         "178022",
         "22CC9A9D92AC1746",
         "electric_bike",
         "2024-12-04 09:06:34.580",
         "2024-12-04 09:12:44.339",
         "Benson Ave & Church St",
         null,
         "42.048214",
         "-87.683485",
         "42.06",
         "-87.67",
         "member"
        ],
        [
         "178075",
         "473C99DFF821622B",
         "electric_bike",
         "2024-12-03 13:00:28.052",
         "2024-12-03 13:05:34.677",
         "Benson Ave & Church St",
         null,
         "42.048214",
         "-87.683485",
         "42.06",
         "-87.67",
         "member"
        ],
        [
         "178079",
         "D5BBA416147B12C3",
         "electric_bike",
         "2024-12-07 16:29:58.907",
         "2024-12-07 16:37:24.568",
         "Benson Ave & Church St",
         null,
         "42.048214",
         "-87.683485",
         "42.06",
         "-87.67",
         "casual"
        ],
        [
         "178088",
         "3E2A339998711A51",
         "electric_bike",
         "2024-12-10 12:28:25.560",
         "2024-12-10 12:40:42.538",
         "Benson Ave & Church St",
         null,
         "42.048214",
         "-87.683485",
         "42.06",
         "-87.67",
         "casual"
        ],
        [
         "178098",
         "5EC45697788E3D5E",
         "electric_bike",
         "2024-12-02 15:41:06.830",
         "2024-12-02 15:43:30.545",
         "Benson Ave & Church St",
         null,
         "42.048214",
         "-87.683485",
         "42.05",
         "-87.69",
         "member"
        ],
        [
         "178107",
         "86E87932D50BD21F",
         "electric_bike",
         "2024-12-06 18:30:18.043",
         "2024-12-06 18:41:28.762",
         "Benson Ave & Church St",
         null,
         "42.048214",
         "-87.683485",
         "42.07",
         "-87.69",
         "member"
        ],
        [
         "178134",
         "05A7CC4632AF430C",
         "electric_bike",
         "2024-12-05 09:09:04.797",
         "2024-12-05 09:15:53.990",
         "Benson Ave & Church St",
         null,
         "42.048214",
         "-87.683485",
         "42.06",
         "-87.67",
         "member"
        ],
        [
         "178135",
         "C4BE25E6A30387EB",
         "electric_bike",
         "2024-12-11 06:27:09.132",
         "2024-12-11 06:31:05.556",
         "Benson Ave & Church St",
         null,
         "42.048214",
         "-87.683485",
         "42.04",
         "-87.68",
         "casual"
        ],
        [
         "178157",
         "C0FB122C5409A766",
         "electric_bike",
         "2024-12-04 10:44:09.750",
         "2024-12-04 10:47:00.525",
         "Benson Ave & Church St",
         null,
         "42.048214",
         "-87.683485",
         "42.05",
         "-87.69",
         "casual"
        ],
        [
         "178169",
         "B06A39290096ED63",
         "electric_bike",
         "2024-12-09 08:43:27.197",
         "2024-12-09 08:49:32.404",
         "Benson Ave & Church St",
         null,
         "42.048257351",
         "-87.683460236",
         "42.06",
         "-87.67",
         "member"
        ],
        [
         "178170",
         "DC0C1B1F8CB54757",
         "electric_bike",
         "2024-12-08 09:10:32.007",
         "2024-12-08 09:16:01.241",
         "Benson Ave & Church St",
         null,
         "42.048214",
         "-87.683485",
         "42.06",
         "-87.67",
         "member"
        ],
        [
         "178186",
         "634D2ADE6FD75A0B",
         "electric_bike",
         "2024-12-04 14:02:29.595",
         "2024-12-04 14:07:24.817",
         "Benson Ave & Church St",
         null,
         "42.048214",
         "-87.683485",
         "42.06",
         "-87.67",
         "member"
        ],
        [
         "178339",
         "A25D55C6D9F94431",
         "electric_bike",
         "2024-12-20 07:28:52.072",
         "2024-12-20 08:04:47.946",
         "Canal St & Jackson Blvd",
         null,
         "41.878125",
         "-87.639968",
         "41.85",
         "-87.61",
         "member"
        ]
       ],
       "shape": {
        "columns": 11,
        "rows": 20
       }
      },
      "text/html": [
       "<div>\n",
       "<style scoped>\n",
       "    .dataframe tbody tr th:only-of-type {\n",
       "        vertical-align: middle;\n",
       "    }\n",
       "\n",
       "    .dataframe tbody tr th {\n",
       "        vertical-align: top;\n",
       "    }\n",
       "\n",
       "    .dataframe thead th {\n",
       "        text-align: right;\n",
       "    }\n",
       "</style>\n",
       "<table border=\"1\" class=\"dataframe\">\n",
       "  <thead>\n",
       "    <tr style=\"text-align: right;\">\n",
       "      <th></th>\n",
       "      <th>ride_id</th>\n",
       "      <th>rideable_type</th>\n",
       "      <th>started_at</th>\n",
       "      <th>ended_at</th>\n",
       "      <th>start_station_name</th>\n",
       "      <th>end_station_name</th>\n",
       "      <th>start_lat</th>\n",
       "      <th>start_lng</th>\n",
       "      <th>end_lat</th>\n",
       "      <th>end_lng</th>\n",
       "      <th>member_casual</th>\n",
       "    </tr>\n",
       "  </thead>\n",
       "  <tbody>\n",
       "    <tr>\n",
       "      <th>177842</th>\n",
       "      <td>15E4F648E71C3BC4</td>\n",
       "      <td>electric_bike</td>\n",
       "      <td>2024-12-25 13:58:41.886</td>\n",
       "      <td>2024-12-25 14:06:56.098</td>\n",
       "      <td>Evanston Civic Center</td>\n",
       "      <td>NaN</td>\n",
       "      <td>42.057044</td>\n",
       "      <td>-87.686554</td>\n",
       "      <td>42.04</td>\n",
       "      <td>-87.69</td>\n",
       "      <td>casual</td>\n",
       "    </tr>\n",
       "    <tr>\n",
       "      <th>177847</th>\n",
       "      <td>0C9491F36CE0B3CA</td>\n",
       "      <td>electric_bike</td>\n",
       "      <td>2024-12-24 14:58:58.261</td>\n",
       "      <td>2024-12-24 16:39:18.343</td>\n",
       "      <td>Public Rack - Keating &amp; Peterson</td>\n",
       "      <td>NaN</td>\n",
       "      <td>41.990159</td>\n",
       "      <td>-87.747183</td>\n",
       "      <td>41.98</td>\n",
       "      <td>-87.73</td>\n",
       "      <td>member</td>\n",
       "    </tr>\n",
       "    <tr>\n",
       "      <th>177852</th>\n",
       "      <td>5488C321313661C9</td>\n",
       "      <td>electric_bike</td>\n",
       "      <td>2024-12-20 12:59:36.823</td>\n",
       "      <td>2024-12-20 13:09:01.506</td>\n",
       "      <td>Public Rack - Keating &amp; Peterson</td>\n",
       "      <td>NaN</td>\n",
       "      <td>41.990159</td>\n",
       "      <td>-87.747183</td>\n",
       "      <td>41.98</td>\n",
       "      <td>-87.73</td>\n",
       "      <td>member</td>\n",
       "    </tr>\n",
       "    <tr>\n",
       "      <th>177964</th>\n",
       "      <td>ACF06640F94F0668</td>\n",
       "      <td>electric_bike</td>\n",
       "      <td>2024-12-15 19:53:33.506</td>\n",
       "      <td>2024-12-15 19:59:58.461</td>\n",
       "      <td>Benson Ave &amp; Church St</td>\n",
       "      <td>NaN</td>\n",
       "      <td>42.048214</td>\n",
       "      <td>-87.683485</td>\n",
       "      <td>42.04</td>\n",
       "      <td>-87.68</td>\n",
       "      <td>member</td>\n",
       "    </tr>\n",
       "    <tr>\n",
       "      <th>178001</th>\n",
       "      <td>114842BD39C6C494</td>\n",
       "      <td>electric_bike</td>\n",
       "      <td>2024-12-19 14:45:56.602</td>\n",
       "      <td>2024-12-19 14:48:22.050</td>\n",
       "      <td>Benson Ave &amp; Church St</td>\n",
       "      <td>NaN</td>\n",
       "      <td>42.048214</td>\n",
       "      <td>-87.683485</td>\n",
       "      <td>42.05</td>\n",
       "      <td>-87.69</td>\n",
       "      <td>casual</td>\n",
       "    </tr>\n",
       "    <tr>\n",
       "      <th>178011</th>\n",
       "      <td>AE9B07429488DA79</td>\n",
       "      <td>electric_bike</td>\n",
       "      <td>2024-12-22 22:56:10.639</td>\n",
       "      <td>2024-12-22 23:02:52.301</td>\n",
       "      <td>Southport Ave &amp; Belmont Ave</td>\n",
       "      <td>NaN</td>\n",
       "      <td>41.939435</td>\n",
       "      <td>-87.663761</td>\n",
       "      <td>41.95</td>\n",
       "      <td>-87.64</td>\n",
       "      <td>member</td>\n",
       "    </tr>\n",
       "    <tr>\n",
       "      <th>178021</th>\n",
       "      <td>5924C24A487EDB9C</td>\n",
       "      <td>electric_bike</td>\n",
       "      <td>2024-12-02 09:08:52.100</td>\n",
       "      <td>2024-12-02 09:16:05.765</td>\n",
       "      <td>Benson Ave &amp; Church St</td>\n",
       "      <td>NaN</td>\n",
       "      <td>42.048214</td>\n",
       "      <td>-87.683485</td>\n",
       "      <td>42.06</td>\n",
       "      <td>-87.67</td>\n",
       "      <td>member</td>\n",
       "    </tr>\n",
       "    <tr>\n",
       "      <th>178022</th>\n",
       "      <td>22CC9A9D92AC1746</td>\n",
       "      <td>electric_bike</td>\n",
       "      <td>2024-12-04 09:06:34.580</td>\n",
       "      <td>2024-12-04 09:12:44.339</td>\n",
       "      <td>Benson Ave &amp; Church St</td>\n",
       "      <td>NaN</td>\n",
       "      <td>42.048214</td>\n",
       "      <td>-87.683485</td>\n",
       "      <td>42.06</td>\n",
       "      <td>-87.67</td>\n",
       "      <td>member</td>\n",
       "    </tr>\n",
       "    <tr>\n",
       "      <th>178075</th>\n",
       "      <td>473C99DFF821622B</td>\n",
       "      <td>electric_bike</td>\n",
       "      <td>2024-12-03 13:00:28.052</td>\n",
       "      <td>2024-12-03 13:05:34.677</td>\n",
       "      <td>Benson Ave &amp; Church St</td>\n",
       "      <td>NaN</td>\n",
       "      <td>42.048214</td>\n",
       "      <td>-87.683485</td>\n",
       "      <td>42.06</td>\n",
       "      <td>-87.67</td>\n",
       "      <td>member</td>\n",
       "    </tr>\n",
       "    <tr>\n",
       "      <th>178079</th>\n",
       "      <td>D5BBA416147B12C3</td>\n",
       "      <td>electric_bike</td>\n",
       "      <td>2024-12-07 16:29:58.907</td>\n",
       "      <td>2024-12-07 16:37:24.568</td>\n",
       "      <td>Benson Ave &amp; Church St</td>\n",
       "      <td>NaN</td>\n",
       "      <td>42.048214</td>\n",
       "      <td>-87.683485</td>\n",
       "      <td>42.06</td>\n",
       "      <td>-87.67</td>\n",
       "      <td>casual</td>\n",
       "    </tr>\n",
       "    <tr>\n",
       "      <th>178088</th>\n",
       "      <td>3E2A339998711A51</td>\n",
       "      <td>electric_bike</td>\n",
       "      <td>2024-12-10 12:28:25.560</td>\n",
       "      <td>2024-12-10 12:40:42.538</td>\n",
       "      <td>Benson Ave &amp; Church St</td>\n",
       "      <td>NaN</td>\n",
       "      <td>42.048214</td>\n",
       "      <td>-87.683485</td>\n",
       "      <td>42.06</td>\n",
       "      <td>-87.67</td>\n",
       "      <td>casual</td>\n",
       "    </tr>\n",
       "    <tr>\n",
       "      <th>178098</th>\n",
       "      <td>5EC45697788E3D5E</td>\n",
       "      <td>electric_bike</td>\n",
       "      <td>2024-12-02 15:41:06.830</td>\n",
       "      <td>2024-12-02 15:43:30.545</td>\n",
       "      <td>Benson Ave &amp; Church St</td>\n",
       "      <td>NaN</td>\n",
       "      <td>42.048214</td>\n",
       "      <td>-87.683485</td>\n",
       "      <td>42.05</td>\n",
       "      <td>-87.69</td>\n",
       "      <td>member</td>\n",
       "    </tr>\n",
       "    <tr>\n",
       "      <th>178107</th>\n",
       "      <td>86E87932D50BD21F</td>\n",
       "      <td>electric_bike</td>\n",
       "      <td>2024-12-06 18:30:18.043</td>\n",
       "      <td>2024-12-06 18:41:28.762</td>\n",
       "      <td>Benson Ave &amp; Church St</td>\n",
       "      <td>NaN</td>\n",
       "      <td>42.048214</td>\n",
       "      <td>-87.683485</td>\n",
       "      <td>42.07</td>\n",
       "      <td>-87.69</td>\n",
       "      <td>member</td>\n",
       "    </tr>\n",
       "    <tr>\n",
       "      <th>178134</th>\n",
       "      <td>05A7CC4632AF430C</td>\n",
       "      <td>electric_bike</td>\n",
       "      <td>2024-12-05 09:09:04.797</td>\n",
       "      <td>2024-12-05 09:15:53.990</td>\n",
       "      <td>Benson Ave &amp; Church St</td>\n",
       "      <td>NaN</td>\n",
       "      <td>42.048214</td>\n",
       "      <td>-87.683485</td>\n",
       "      <td>42.06</td>\n",
       "      <td>-87.67</td>\n",
       "      <td>member</td>\n",
       "    </tr>\n",
       "    <tr>\n",
       "      <th>178135</th>\n",
       "      <td>C4BE25E6A30387EB</td>\n",
       "      <td>electric_bike</td>\n",
       "      <td>2024-12-11 06:27:09.132</td>\n",
       "      <td>2024-12-11 06:31:05.556</td>\n",
       "      <td>Benson Ave &amp; Church St</td>\n",
       "      <td>NaN</td>\n",
       "      <td>42.048214</td>\n",
       "      <td>-87.683485</td>\n",
       "      <td>42.04</td>\n",
       "      <td>-87.68</td>\n",
       "      <td>casual</td>\n",
       "    </tr>\n",
       "    <tr>\n",
       "      <th>178157</th>\n",
       "      <td>C0FB122C5409A766</td>\n",
       "      <td>electric_bike</td>\n",
       "      <td>2024-12-04 10:44:09.750</td>\n",
       "      <td>2024-12-04 10:47:00.525</td>\n",
       "      <td>Benson Ave &amp; Church St</td>\n",
       "      <td>NaN</td>\n",
       "      <td>42.048214</td>\n",
       "      <td>-87.683485</td>\n",
       "      <td>42.05</td>\n",
       "      <td>-87.69</td>\n",
       "      <td>casual</td>\n",
       "    </tr>\n",
       "    <tr>\n",
       "      <th>178169</th>\n",
       "      <td>B06A39290096ED63</td>\n",
       "      <td>electric_bike</td>\n",
       "      <td>2024-12-09 08:43:27.197</td>\n",
       "      <td>2024-12-09 08:49:32.404</td>\n",
       "      <td>Benson Ave &amp; Church St</td>\n",
       "      <td>NaN</td>\n",
       "      <td>42.048257</td>\n",
       "      <td>-87.683460</td>\n",
       "      <td>42.06</td>\n",
       "      <td>-87.67</td>\n",
       "      <td>member</td>\n",
       "    </tr>\n",
       "    <tr>\n",
       "      <th>178170</th>\n",
       "      <td>DC0C1B1F8CB54757</td>\n",
       "      <td>electric_bike</td>\n",
       "      <td>2024-12-08 09:10:32.007</td>\n",
       "      <td>2024-12-08 09:16:01.241</td>\n",
       "      <td>Benson Ave &amp; Church St</td>\n",
       "      <td>NaN</td>\n",
       "      <td>42.048214</td>\n",
       "      <td>-87.683485</td>\n",
       "      <td>42.06</td>\n",
       "      <td>-87.67</td>\n",
       "      <td>member</td>\n",
       "    </tr>\n",
       "    <tr>\n",
       "      <th>178186</th>\n",
       "      <td>634D2ADE6FD75A0B</td>\n",
       "      <td>electric_bike</td>\n",
       "      <td>2024-12-04 14:02:29.595</td>\n",
       "      <td>2024-12-04 14:07:24.817</td>\n",
       "      <td>Benson Ave &amp; Church St</td>\n",
       "      <td>NaN</td>\n",
       "      <td>42.048214</td>\n",
       "      <td>-87.683485</td>\n",
       "      <td>42.06</td>\n",
       "      <td>-87.67</td>\n",
       "      <td>member</td>\n",
       "    </tr>\n",
       "    <tr>\n",
       "      <th>178339</th>\n",
       "      <td>A25D55C6D9F94431</td>\n",
       "      <td>electric_bike</td>\n",
       "      <td>2024-12-20 07:28:52.072</td>\n",
       "      <td>2024-12-20 08:04:47.946</td>\n",
       "      <td>Canal St &amp; Jackson Blvd</td>\n",
       "      <td>NaN</td>\n",
       "      <td>41.878125</td>\n",
       "      <td>-87.639968</td>\n",
       "      <td>41.85</td>\n",
       "      <td>-87.61</td>\n",
       "      <td>member</td>\n",
       "    </tr>\n",
       "  </tbody>\n",
       "</table>\n",
       "</div>"
      ],
      "text/plain": [
       "                 ride_id  rideable_type               started_at  \\\n",
       "177842  15E4F648E71C3BC4  electric_bike  2024-12-25 13:58:41.886   \n",
       "177847  0C9491F36CE0B3CA  electric_bike  2024-12-24 14:58:58.261   \n",
       "177852  5488C321313661C9  electric_bike  2024-12-20 12:59:36.823   \n",
       "177964  ACF06640F94F0668  electric_bike  2024-12-15 19:53:33.506   \n",
       "178001  114842BD39C6C494  electric_bike  2024-12-19 14:45:56.602   \n",
       "178011  AE9B07429488DA79  electric_bike  2024-12-22 22:56:10.639   \n",
       "178021  5924C24A487EDB9C  electric_bike  2024-12-02 09:08:52.100   \n",
       "178022  22CC9A9D92AC1746  electric_bike  2024-12-04 09:06:34.580   \n",
       "178075  473C99DFF821622B  electric_bike  2024-12-03 13:00:28.052   \n",
       "178079  D5BBA416147B12C3  electric_bike  2024-12-07 16:29:58.907   \n",
       "178088  3E2A339998711A51  electric_bike  2024-12-10 12:28:25.560   \n",
       "178098  5EC45697788E3D5E  electric_bike  2024-12-02 15:41:06.830   \n",
       "178107  86E87932D50BD21F  electric_bike  2024-12-06 18:30:18.043   \n",
       "178134  05A7CC4632AF430C  electric_bike  2024-12-05 09:09:04.797   \n",
       "178135  C4BE25E6A30387EB  electric_bike  2024-12-11 06:27:09.132   \n",
       "178157  C0FB122C5409A766  electric_bike  2024-12-04 10:44:09.750   \n",
       "178169  B06A39290096ED63  electric_bike  2024-12-09 08:43:27.197   \n",
       "178170  DC0C1B1F8CB54757  electric_bike  2024-12-08 09:10:32.007   \n",
       "178186  634D2ADE6FD75A0B  electric_bike  2024-12-04 14:02:29.595   \n",
       "178339  A25D55C6D9F94431  electric_bike  2024-12-20 07:28:52.072   \n",
       "\n",
       "                       ended_at                start_station_name  \\\n",
       "177842  2024-12-25 14:06:56.098             Evanston Civic Center   \n",
       "177847  2024-12-24 16:39:18.343  Public Rack - Keating & Peterson   \n",
       "177852  2024-12-20 13:09:01.506  Public Rack - Keating & Peterson   \n",
       "177964  2024-12-15 19:59:58.461            Benson Ave & Church St   \n",
       "178001  2024-12-19 14:48:22.050            Benson Ave & Church St   \n",
       "178011  2024-12-22 23:02:52.301       Southport Ave & Belmont Ave   \n",
       "178021  2024-12-02 09:16:05.765            Benson Ave & Church St   \n",
       "178022  2024-12-04 09:12:44.339            Benson Ave & Church St   \n",
       "178075  2024-12-03 13:05:34.677            Benson Ave & Church St   \n",
       "178079  2024-12-07 16:37:24.568            Benson Ave & Church St   \n",
       "178088  2024-12-10 12:40:42.538            Benson Ave & Church St   \n",
       "178098  2024-12-02 15:43:30.545            Benson Ave & Church St   \n",
       "178107  2024-12-06 18:41:28.762            Benson Ave & Church St   \n",
       "178134  2024-12-05 09:15:53.990            Benson Ave & Church St   \n",
       "178135  2024-12-11 06:31:05.556            Benson Ave & Church St   \n",
       "178157  2024-12-04 10:47:00.525            Benson Ave & Church St   \n",
       "178169  2024-12-09 08:49:32.404            Benson Ave & Church St   \n",
       "178170  2024-12-08 09:16:01.241            Benson Ave & Church St   \n",
       "178186  2024-12-04 14:07:24.817            Benson Ave & Church St   \n",
       "178339  2024-12-20 08:04:47.946           Canal St & Jackson Blvd   \n",
       "\n",
       "       end_station_name  start_lat  start_lng  end_lat  end_lng member_casual  \n",
       "177842              NaN  42.057044 -87.686554    42.04   -87.69        casual  \n",
       "177847              NaN  41.990159 -87.747183    41.98   -87.73        member  \n",
       "177852              NaN  41.990159 -87.747183    41.98   -87.73        member  \n",
       "177964              NaN  42.048214 -87.683485    42.04   -87.68        member  \n",
       "178001              NaN  42.048214 -87.683485    42.05   -87.69        casual  \n",
       "178011              NaN  41.939435 -87.663761    41.95   -87.64        member  \n",
       "178021              NaN  42.048214 -87.683485    42.06   -87.67        member  \n",
       "178022              NaN  42.048214 -87.683485    42.06   -87.67        member  \n",
       "178075              NaN  42.048214 -87.683485    42.06   -87.67        member  \n",
       "178079              NaN  42.048214 -87.683485    42.06   -87.67        casual  \n",
       "178088              NaN  42.048214 -87.683485    42.06   -87.67        casual  \n",
       "178098              NaN  42.048214 -87.683485    42.05   -87.69        member  \n",
       "178107              NaN  42.048214 -87.683485    42.07   -87.69        member  \n",
       "178134              NaN  42.048214 -87.683485    42.06   -87.67        member  \n",
       "178135              NaN  42.048214 -87.683485    42.04   -87.68        casual  \n",
       "178157              NaN  42.048214 -87.683485    42.05   -87.69        casual  \n",
       "178169              NaN  42.048257 -87.683460    42.06   -87.67        member  \n",
       "178170              NaN  42.048214 -87.683485    42.06   -87.67        member  \n",
       "178186              NaN  42.048214 -87.683485    42.06   -87.67        member  \n",
       "178339              NaN  41.878125 -87.639968    41.85   -87.61        member  "
      ]
     },
     "execution_count": 14,
     "metadata": {},
     "output_type": "execute_result"
    }
   ],
   "source": [
    "divvy_missing_electic_bike = divvy_missing[divvy_missing[\"rideable_type\"]== \"electric_bike\"]\n",
    "divvy_missing_electic_bike.tail(20)"
   ]
  },
  {
   "cell_type": "code",
   "execution_count": 15,
   "id": "dc4d0442",
   "metadata": {},
   "outputs": [
    {
     "data": {
      "text/plain": [
       "np.int64(43373)"
      ]
     },
     "execution_count": 15,
     "metadata": {},
     "output_type": "execute_result"
    }
   ],
   "source": [
    "divvy['end_station_name'].isnull().sum()"
   ]
  },
  {
   "cell_type": "markdown",
   "id": "7a5cc857",
   "metadata": {},
   "source": [
    "I dati mancanti riscontrati nella colonna end_station_name sono prevalentemente associati all'utilizzo delle biciclette elettriche (electric_bike). Per preservare l'integrità del dataset e consentire un'analisi comparativa sull'utilizzo dei diversi mezzi, ho scelto di non eliminare queste righe. La strategia adottata consiste nell'imputare i valori mancanti, sostituendoli con la stringa descrittiva \"Stazione non presente\". Tale approccio permette di mantenere un set di dati completo, rendendo esplicita la mancanza di una stazione fisica di arrivo per questi specifici viaggi."
   ]
  },
  {
   "cell_type": "code",
   "execution_count": 16,
   "id": "1ee6209a",
   "metadata": {},
   "outputs": [],
   "source": [
    "# Sostituisce i valori mancanti nella colonna 'end_station_name'\n",
    "# dove il tipo di bici è 'electric_bike'\n",
    "divvy.loc[\n",
    "    divvy['end_station_name'].isnull(),\n",
    "    'end_station_name'\n",
    "] = 'Stazione non presente'"
   ]
  },
  {
   "cell_type": "code",
   "execution_count": 17,
   "id": "ffc6efae",
   "metadata": {},
   "outputs": [],
   "source": [
    "# Sostituisce i valori mancanti nella colonna 'start_station_name'\n",
    "# dove il tipo di bici è 'electric_bike'\n",
    "divvy.loc[\n",
    "    divvy['start_station_name'].isnull(),\n",
    "    'start_station_name'\n",
    "] = 'Stazione non presente'"
   ]
  },
  {
   "cell_type": "code",
   "execution_count": 18,
   "id": "a97de7bb",
   "metadata": {},
   "outputs": [
    {
     "data": {
      "application/vnd.microsoft.datawrangler.viewer.v0+json": {
       "columns": [
        {
         "name": "index",
         "rawType": "object",
         "type": "string"
        },
        {
         "name": "0",
         "rawType": "int64",
         "type": "integer"
        }
       ],
       "ref": "fcd03739-0937-4682-b4f4-ef495c22cedd",
       "rows": [
        [
         "ride_id",
         "0"
        ],
        [
         "rideable_type",
         "0"
        ],
        [
         "started_at",
         "0"
        ],
        [
         "ended_at",
         "0"
        ],
        [
         "start_station_name",
         "0"
        ],
        [
         "end_station_name",
         "0"
        ],
        [
         "start_lat",
         "0"
        ],
        [
         "start_lng",
         "0"
        ],
        [
         "end_lat",
         "7232"
        ],
        [
         "end_lng",
         "7232"
        ],
        [
         "member_casual",
         "0"
        ]
       ],
       "shape": {
        "columns": 1,
        "rows": 11
       }
      },
      "text/plain": [
       "ride_id                  0\n",
       "rideable_type            0\n",
       "started_at               0\n",
       "ended_at                 0\n",
       "start_station_name       0\n",
       "end_station_name         0\n",
       "start_lat                0\n",
       "start_lng                0\n",
       "end_lat               7232\n",
       "end_lng               7232\n",
       "member_casual            0\n",
       "dtype: int64"
      ]
     },
     "execution_count": 18,
     "metadata": {},
     "output_type": "execute_result"
    }
   ],
   "source": [
    "divvy.isnull().sum()"
   ]
  },
  {
   "cell_type": "markdown",
   "id": "8faece4b",
   "metadata": {},
   "source": [
    "Sono stati riscontrati 7.232 valori mancanti nelle colonne end_lat e end_lng. Dato che questo numero rappresenta una percentuale trascurabile del dataset totale e i dati non sono essenziali per gli obiettivi dell'analisi, si è deciso di procedere con la rimozione di queste righe."
   ]
  },
  {
   "cell_type": "code",
   "execution_count": 19,
   "id": "29f2a6fe",
   "metadata": {},
   "outputs": [],
   "source": [
    "# Elimina le righe in cui 'end_lat' o 'end_lng' sono mancanti\n",
    "divvy = divvy.dropna(subset=['end_lat', 'end_lng'])"
   ]
  },
  {
   "cell_type": "code",
   "execution_count": 20,
   "id": "e2c5e239",
   "metadata": {},
   "outputs": [
    {
     "data": {
      "application/vnd.microsoft.datawrangler.viewer.v0+json": {
       "columns": [
        {
         "name": "index",
         "rawType": "object",
         "type": "string"
        },
        {
         "name": "0",
         "rawType": "int64",
         "type": "integer"
        }
       ],
       "ref": "43ff26fd-fa27-452c-8a51-f746a4410a03",
       "rows": [
        [
         "ride_id",
         "0"
        ],
        [
         "rideable_type",
         "0"
        ],
        [
         "started_at",
         "0"
        ],
        [
         "ended_at",
         "0"
        ],
        [
         "start_station_name",
         "0"
        ],
        [
         "end_station_name",
         "0"
        ],
        [
         "start_lat",
         "0"
        ],
        [
         "start_lng",
         "0"
        ],
        [
         "end_lat",
         "0"
        ],
        [
         "end_lng",
         "0"
        ],
        [
         "member_casual",
         "0"
        ]
       ],
       "shape": {
        "columns": 1,
        "rows": 11
       }
      },
      "text/plain": [
       "ride_id               0\n",
       "rideable_type         0\n",
       "started_at            0\n",
       "ended_at              0\n",
       "start_station_name    0\n",
       "end_station_name      0\n",
       "start_lat             0\n",
       "start_lng             0\n",
       "end_lat               0\n",
       "end_lng               0\n",
       "member_casual         0\n",
       "dtype: int64"
      ]
     },
     "execution_count": 20,
     "metadata": {},
     "output_type": "execute_result"
    }
   ],
   "source": [
    "divvy.isnull().sum()"
   ]
  },
  {
   "cell_type": "markdown",
   "id": "0a73a4c8",
   "metadata": {},
   "source": [
    "Ora il dataset è pulito con assenza di valori mancanti."
   ]
  },
  {
   "cell_type": "markdown",
   "id": "09317cfd",
   "metadata": {},
   "source": [
    "### 2.2 Gestione variabili temporali"
   ]
  },
  {
   "cell_type": "markdown",
   "id": "c5ec4a60",
   "metadata": {},
   "source": [
    "**Conversione in datetime**"
   ]
  },
  {
   "cell_type": "code",
   "execution_count": 21,
   "id": "311897d1",
   "metadata": {},
   "outputs": [],
   "source": [
    "divvy['started_at'] = pd.to_datetime(divvy['started_at'], format='mixed')\n",
    "divvy['ended_at'] = pd.to_datetime(divvy['ended_at'], format='mixed')"
   ]
  },
  {
   "cell_type": "markdown",
   "id": "acfd11b6",
   "metadata": {},
   "source": [
    "**feature engineering: creazione nuove variabili temporali**"
   ]
  },
  {
   "cell_type": "markdown",
   "id": "fcbeba6d",
   "metadata": {},
   "source": [
    "Per ottenere maggiori insight dal dataset procedo a creare delle nuove colonne con i seguenti dati: mese, giorno della settimana, ora del giorno, tipo di giorno (weekend, feriale) e durata della corsa in minuti"
   ]
  },
  {
   "cell_type": "code",
   "execution_count": 22,
   "id": "8d813aef",
   "metadata": {},
   "outputs": [],
   "source": [
    "# Crea la colonna 'month' (mese)\n",
    "divvy['month'] = divvy['started_at'].dt.month\n",
    "\n",
    "# Crea la colonna 'weekday' (giorno della settimana: Lun=0, Dom=6)\n",
    "divvy['weekday'] = divvy['started_at'].dt.weekday\n",
    "\n",
    "# Crea la colonna 'hour' (ora del giorno)\n",
    "divvy['hour'] = divvy['started_at'].dt.hour\n",
    "\n",
    "# Crea la colonna 'day_type' (feriale/weekend)\n",
    "divvy['day_type'] = divvy['weekday'].apply(\n",
    "    lambda x: 'Weekend' if x >= 5 else 'Feriale'\n",
    ")\n",
    "\n",
    "# Calcola la 'ride_duration' in minuti\n",
    "divvy['ride_duration'] = ((divvy['ended_at'] - divvy['started_at']).dt.total_seconds() / 60).astype(int)\n",
    "\n",
    "#sostituisco i giorni della settimana assegnando una stringa al posto del numero\n",
    "dizionario_sostituzioni_weekday = {\n",
    "    0 : \"Lun\",\n",
    "    1 : \"Mar\",\n",
    "    2 : \"Mer\",\n",
    "    3 : \"Gio\",\n",
    "    4 : \"Ven\",\n",
    "    5 : \"Sab\",\n",
    "    6 : \"Dom\"\n",
    "}\n",
    "\n",
    "divvy[\"weekday\"] = divvy[\"weekday\"].replace(dizionario_sostituzioni_weekday)\n",
    "\n",
    "#creazione colonna categoriale per fascia di orario\n",
    "\n",
    "bins = [0, 6, 12, 18, 24]\n",
    "labels = ['Notte', 'Mattina', 'Pomeriggio', 'Sera']\n",
    "divvy['time_of_day'] = pd.cut(\n",
    "    divvy['hour'],\n",
    "    bins=bins,\n",
    "    labels=labels,\n",
    "    right=False,\n",
    "    include_lowest=True\n",
    ")"
   ]
  },
  {
   "cell_type": "markdown",
   "id": "ba4f16fc",
   "metadata": {},
   "source": [
    "Check."
   ]
  },
  {
   "cell_type": "code",
   "execution_count": 23,
   "id": "2c5cc2d4",
   "metadata": {},
   "outputs": [
    {
     "data": {
      "application/vnd.microsoft.datawrangler.viewer.v0+json": {
       "columns": [
        {
         "name": "index",
         "rawType": "int64",
         "type": "integer"
        },
        {
         "name": "ride_id",
         "rawType": "object",
         "type": "string"
        },
        {
         "name": "rideable_type",
         "rawType": "object",
         "type": "string"
        },
        {
         "name": "started_at",
         "rawType": "datetime64[ns]",
         "type": "datetime"
        },
        {
         "name": "ended_at",
         "rawType": "datetime64[ns]",
         "type": "datetime"
        },
        {
         "name": "start_station_name",
         "rawType": "object",
         "type": "string"
        },
        {
         "name": "end_station_name",
         "rawType": "object",
         "type": "string"
        },
        {
         "name": "start_lat",
         "rawType": "float64",
         "type": "float"
        },
        {
         "name": "start_lng",
         "rawType": "float64",
         "type": "float"
        },
        {
         "name": "end_lat",
         "rawType": "float64",
         "type": "float"
        },
        {
         "name": "end_lng",
         "rawType": "float64",
         "type": "float"
        },
        {
         "name": "member_casual",
         "rawType": "object",
         "type": "string"
        },
        {
         "name": "month",
         "rawType": "int32",
         "type": "integer"
        },
        {
         "name": "weekday",
         "rawType": "object",
         "type": "string"
        },
        {
         "name": "hour",
         "rawType": "int32",
         "type": "integer"
        },
        {
         "name": "day_type",
         "rawType": "object",
         "type": "string"
        },
        {
         "name": "ride_duration",
         "rawType": "int64",
         "type": "integer"
        },
        {
         "name": "time_of_day",
         "rawType": "category",
         "type": "unknown"
        }
       ],
       "ref": "7ae3a650-7b52-4646-a41f-c205b4aef85f",
       "rows": [
        [
         "0",
         "C1D650626C8C899A",
         "electric_bike",
         "2024-01-12 15:30:27",
         "2024-01-12 15:37:59",
         "Wells St & Elm St",
         "Kingsbury St & Kinzie St",
         "41.903267384",
         "-87.634736776",
         "41.88917683258",
         "-87.6385057718",
         "member",
         "1",
         "Ven",
         "15",
         "Feriale",
         "7",
         "Pomeriggio"
        ],
        [
         "1",
         "EECD38BDB25BFCB0",
         "electric_bike",
         "2024-01-08 15:45:46",
         "2024-01-08 15:52:59",
         "Wells St & Elm St",
         "Kingsbury St & Kinzie St",
         "41.9029365",
         "-87.63444016666666",
         "41.88917683258",
         "-87.6385057718",
         "member",
         "1",
         "Lun",
         "15",
         "Feriale",
         "7",
         "Pomeriggio"
        ],
        [
         "2",
         "F4A9CE78061F17F7",
         "electric_bike",
         "2024-01-27 12:27:19",
         "2024-01-27 12:35:19",
         "Wells St & Elm St",
         "Kingsbury St & Kinzie St",
         "41.902951333333334",
         "-87.63447033333334",
         "41.88917683258",
         "-87.6385057718",
         "member",
         "1",
         "Sab",
         "12",
         "Weekend",
         "8",
         "Pomeriggio"
        ],
        [
         "3",
         "0A0D9E15EE50B171",
         "classic_bike",
         "2024-01-29 16:26:17",
         "2024-01-29 16:56:06",
         "Wells St & Randolph St",
         "Larrabee St & Webster Ave",
         "41.884295",
         "-87.633963",
         "41.921822",
         "-87.64414",
         "member",
         "1",
         "Lun",
         "16",
         "Feriale",
         "29",
         "Pomeriggio"
        ],
        [
         "4",
         "33FFC9805E3EFF9A",
         "classic_bike",
         "2024-01-31 05:43:23",
         "2024-01-31 06:09:35",
         "Lincoln Ave & Waveland Ave",
         "Kingsbury St & Kinzie St",
         "41.948797",
         "-87.675278",
         "41.88917683258",
         "-87.6385057718",
         "member",
         "1",
         "Mer",
         "5",
         "Feriale",
         "26",
         "Notte"
        ]
       ],
       "shape": {
        "columns": 17,
        "rows": 5
       }
      },
      "text/html": [
       "<div>\n",
       "<style scoped>\n",
       "    .dataframe tbody tr th:only-of-type {\n",
       "        vertical-align: middle;\n",
       "    }\n",
       "\n",
       "    .dataframe tbody tr th {\n",
       "        vertical-align: top;\n",
       "    }\n",
       "\n",
       "    .dataframe thead th {\n",
       "        text-align: right;\n",
       "    }\n",
       "</style>\n",
       "<table border=\"1\" class=\"dataframe\">\n",
       "  <thead>\n",
       "    <tr style=\"text-align: right;\">\n",
       "      <th></th>\n",
       "      <th>ride_id</th>\n",
       "      <th>rideable_type</th>\n",
       "      <th>started_at</th>\n",
       "      <th>ended_at</th>\n",
       "      <th>start_station_name</th>\n",
       "      <th>end_station_name</th>\n",
       "      <th>start_lat</th>\n",
       "      <th>start_lng</th>\n",
       "      <th>end_lat</th>\n",
       "      <th>end_lng</th>\n",
       "      <th>member_casual</th>\n",
       "      <th>month</th>\n",
       "      <th>weekday</th>\n",
       "      <th>hour</th>\n",
       "      <th>day_type</th>\n",
       "      <th>ride_duration</th>\n",
       "      <th>time_of_day</th>\n",
       "    </tr>\n",
       "  </thead>\n",
       "  <tbody>\n",
       "    <tr>\n",
       "      <th>0</th>\n",
       "      <td>C1D650626C8C899A</td>\n",
       "      <td>electric_bike</td>\n",
       "      <td>2024-01-12 15:30:27</td>\n",
       "      <td>2024-01-12 15:37:59</td>\n",
       "      <td>Wells St &amp; Elm St</td>\n",
       "      <td>Kingsbury St &amp; Kinzie St</td>\n",
       "      <td>41.903267</td>\n",
       "      <td>-87.634737</td>\n",
       "      <td>41.889177</td>\n",
       "      <td>-87.638506</td>\n",
       "      <td>member</td>\n",
       "      <td>1</td>\n",
       "      <td>Ven</td>\n",
       "      <td>15</td>\n",
       "      <td>Feriale</td>\n",
       "      <td>7</td>\n",
       "      <td>Pomeriggio</td>\n",
       "    </tr>\n",
       "    <tr>\n",
       "      <th>1</th>\n",
       "      <td>EECD38BDB25BFCB0</td>\n",
       "      <td>electric_bike</td>\n",
       "      <td>2024-01-08 15:45:46</td>\n",
       "      <td>2024-01-08 15:52:59</td>\n",
       "      <td>Wells St &amp; Elm St</td>\n",
       "      <td>Kingsbury St &amp; Kinzie St</td>\n",
       "      <td>41.902937</td>\n",
       "      <td>-87.634440</td>\n",
       "      <td>41.889177</td>\n",
       "      <td>-87.638506</td>\n",
       "      <td>member</td>\n",
       "      <td>1</td>\n",
       "      <td>Lun</td>\n",
       "      <td>15</td>\n",
       "      <td>Feriale</td>\n",
       "      <td>7</td>\n",
       "      <td>Pomeriggio</td>\n",
       "    </tr>\n",
       "    <tr>\n",
       "      <th>2</th>\n",
       "      <td>F4A9CE78061F17F7</td>\n",
       "      <td>electric_bike</td>\n",
       "      <td>2024-01-27 12:27:19</td>\n",
       "      <td>2024-01-27 12:35:19</td>\n",
       "      <td>Wells St &amp; Elm St</td>\n",
       "      <td>Kingsbury St &amp; Kinzie St</td>\n",
       "      <td>41.902951</td>\n",
       "      <td>-87.634470</td>\n",
       "      <td>41.889177</td>\n",
       "      <td>-87.638506</td>\n",
       "      <td>member</td>\n",
       "      <td>1</td>\n",
       "      <td>Sab</td>\n",
       "      <td>12</td>\n",
       "      <td>Weekend</td>\n",
       "      <td>8</td>\n",
       "      <td>Pomeriggio</td>\n",
       "    </tr>\n",
       "    <tr>\n",
       "      <th>3</th>\n",
       "      <td>0A0D9E15EE50B171</td>\n",
       "      <td>classic_bike</td>\n",
       "      <td>2024-01-29 16:26:17</td>\n",
       "      <td>2024-01-29 16:56:06</td>\n",
       "      <td>Wells St &amp; Randolph St</td>\n",
       "      <td>Larrabee St &amp; Webster Ave</td>\n",
       "      <td>41.884295</td>\n",
       "      <td>-87.633963</td>\n",
       "      <td>41.921822</td>\n",
       "      <td>-87.644140</td>\n",
       "      <td>member</td>\n",
       "      <td>1</td>\n",
       "      <td>Lun</td>\n",
       "      <td>16</td>\n",
       "      <td>Feriale</td>\n",
       "      <td>29</td>\n",
       "      <td>Pomeriggio</td>\n",
       "    </tr>\n",
       "    <tr>\n",
       "      <th>4</th>\n",
       "      <td>33FFC9805E3EFF9A</td>\n",
       "      <td>classic_bike</td>\n",
       "      <td>2024-01-31 05:43:23</td>\n",
       "      <td>2024-01-31 06:09:35</td>\n",
       "      <td>Lincoln Ave &amp; Waveland Ave</td>\n",
       "      <td>Kingsbury St &amp; Kinzie St</td>\n",
       "      <td>41.948797</td>\n",
       "      <td>-87.675278</td>\n",
       "      <td>41.889177</td>\n",
       "      <td>-87.638506</td>\n",
       "      <td>member</td>\n",
       "      <td>1</td>\n",
       "      <td>Mer</td>\n",
       "      <td>5</td>\n",
       "      <td>Feriale</td>\n",
       "      <td>26</td>\n",
       "      <td>Notte</td>\n",
       "    </tr>\n",
       "  </tbody>\n",
       "</table>\n",
       "</div>"
      ],
      "text/plain": [
       "            ride_id  rideable_type          started_at            ended_at  \\\n",
       "0  C1D650626C8C899A  electric_bike 2024-01-12 15:30:27 2024-01-12 15:37:59   \n",
       "1  EECD38BDB25BFCB0  electric_bike 2024-01-08 15:45:46 2024-01-08 15:52:59   \n",
       "2  F4A9CE78061F17F7  electric_bike 2024-01-27 12:27:19 2024-01-27 12:35:19   \n",
       "3  0A0D9E15EE50B171   classic_bike 2024-01-29 16:26:17 2024-01-29 16:56:06   \n",
       "4  33FFC9805E3EFF9A   classic_bike 2024-01-31 05:43:23 2024-01-31 06:09:35   \n",
       "\n",
       "           start_station_name           end_station_name  start_lat  \\\n",
       "0           Wells St & Elm St   Kingsbury St & Kinzie St  41.903267   \n",
       "1           Wells St & Elm St   Kingsbury St & Kinzie St  41.902937   \n",
       "2           Wells St & Elm St   Kingsbury St & Kinzie St  41.902951   \n",
       "3      Wells St & Randolph St  Larrabee St & Webster Ave  41.884295   \n",
       "4  Lincoln Ave & Waveland Ave   Kingsbury St & Kinzie St  41.948797   \n",
       "\n",
       "   start_lng    end_lat    end_lng member_casual  month weekday  hour  \\\n",
       "0 -87.634737  41.889177 -87.638506        member      1     Ven    15   \n",
       "1 -87.634440  41.889177 -87.638506        member      1     Lun    15   \n",
       "2 -87.634470  41.889177 -87.638506        member      1     Sab    12   \n",
       "3 -87.633963  41.921822 -87.644140        member      1     Lun    16   \n",
       "4 -87.675278  41.889177 -87.638506        member      1     Mer     5   \n",
       "\n",
       "  day_type  ride_duration time_of_day  \n",
       "0  Feriale              7  Pomeriggio  \n",
       "1  Feriale              7  Pomeriggio  \n",
       "2  Weekend              8  Pomeriggio  \n",
       "3  Feriale             29  Pomeriggio  \n",
       "4  Feriale             26       Notte  "
      ]
     },
     "execution_count": 23,
     "metadata": {},
     "output_type": "execute_result"
    }
   ],
   "source": [
    "divvy.head()"
   ]
  },
  {
   "cell_type": "markdown",
   "id": "d65f4d8e",
   "metadata": {},
   "source": [
    "### 2.3 Ispezione e pulizia delle altre variabili"
   ]
  },
  {
   "cell_type": "markdown",
   "id": "d605b940",
   "metadata": {},
   "source": [
    "**Colonna ride_id**"
   ]
  },
  {
   "cell_type": "markdown",
   "id": "b2bb518d",
   "metadata": {},
   "source": [
    "Controllo duplicati."
   ]
  },
  {
   "cell_type": "code",
   "execution_count": 24,
   "id": "22c66be9",
   "metadata": {},
   "outputs": [
    {
     "data": {
      "text/plain": [
       "np.int64(171)"
      ]
     },
     "execution_count": 24,
     "metadata": {},
     "output_type": "execute_result"
    }
   ],
   "source": [
    "divvy[\"ride_id\"].duplicated().sum()"
   ]
  },
  {
   "cell_type": "markdown",
   "id": "53a9a988",
   "metadata": {},
   "source": [
    "Eliminazione duplicati."
   ]
  },
  {
   "cell_type": "code",
   "execution_count": 25,
   "id": "63964bce",
   "metadata": {},
   "outputs": [],
   "source": [
    "# Rimuove i duplicati in base al 'ride_id',\n",
    "# mantenendo l'ultima occorrenza\n",
    "divvy = divvy.drop_duplicates(subset=['ride_id'], keep='last')"
   ]
  },
  {
   "cell_type": "markdown",
   "id": "d3b7c1ed",
   "metadata": {},
   "source": [
    "**colonne rideable_type, member casual**. \n",
    "\n",
    "Controllo valori univoci."
   ]
  },
  {
   "cell_type": "code",
   "execution_count": 26,
   "id": "17957cde",
   "metadata": {},
   "outputs": [
    {
     "data": {
      "text/plain": [
       "array(['electric_bike', 'classic_bike', 'electric_scooter'], dtype=object)"
      ]
     },
     "execution_count": 26,
     "metadata": {},
     "output_type": "execute_result"
    }
   ],
   "source": [
    "# Seleziona la colonna 'rideable_type' dal dataframe 'divvy'\n",
    "# e utilizza il metodo .unique() per ottenere un array con tutti\n",
    "# i tipi di veicoli unici disponibili (es. \"classic_bike\", \"electric_bike\", ecc.).\n",
    "divvy[\"rideable_type\"].unique()"
   ]
  },
  {
   "cell_type": "markdown",
   "id": "05badf05",
   "metadata": {},
   "source": [
    "Ok!"
   ]
  },
  {
   "cell_type": "code",
   "execution_count": 27,
   "id": "6c174541",
   "metadata": {},
   "outputs": [
    {
     "data": {
      "text/plain": [
       "array(['member', 'casual'], dtype=object)"
      ]
     },
     "execution_count": 27,
     "metadata": {},
     "output_type": "execute_result"
    }
   ],
   "source": [
    "divvy[\"member_casual\"].unique()"
   ]
  },
  {
   "cell_type": "markdown",
   "id": "42503106",
   "metadata": {},
   "source": [
    "Ok!"
   ]
  },
  {
   "cell_type": "markdown",
   "id": "0923ff92",
   "metadata": {},
   "source": [
    "### 2.4 Distribuzione dei dati\n",
    "Colonna `ride_duration`"
   ]
  },
  {
   "cell_type": "code",
   "execution_count": 28,
   "id": "937e3f5f",
   "metadata": {},
   "outputs": [
    {
     "data": {
      "application/vnd.microsoft.datawrangler.viewer.v0+json": {
       "columns": [
        {
         "name": "index",
         "rawType": "object",
         "type": "string"
        },
        {
         "name": "ride_duration",
         "rawType": "float64",
         "type": "float"
        }
       ],
       "ref": "ac4c6ddb-4d13-42c3-95ad-74283cf485f9",
       "rows": [
        [
         "count",
         "5853165.0"
        ],
        [
         "mean",
         "14.98661083362591"
        ],
        [
         "std",
         "32.82440120956633"
        ],
        [
         "min",
         "-2748.0"
        ],
        [
         "25%",
         "5.0"
        ],
        [
         "50%",
         "9.0"
        ],
        [
         "75%",
         "17.0"
        ],
        [
         "max",
         "1509.0"
        ]
       ],
       "shape": {
        "columns": 1,
        "rows": 8
       }
      },
      "text/plain": [
       "count    5.853165e+06\n",
       "mean     1.498661e+01\n",
       "std      3.282440e+01\n",
       "min     -2.748000e+03\n",
       "25%      5.000000e+00\n",
       "50%      9.000000e+00\n",
       "75%      1.700000e+01\n",
       "max      1.509000e+03\n",
       "Name: ride_duration, dtype: float64"
      ]
     },
     "execution_count": 28,
     "metadata": {},
     "output_type": "execute_result"
    }
   ],
   "source": [
    "#riepilogo statistico della colonna ride_duration\n",
    "divvy[\"ride_duration\"].describe()"
   ]
  },
  {
   "cell_type": "markdown",
   "id": "f35bd3b7",
   "metadata": {},
   "source": [
    "Ci sono dei valori massimi troppo elevati (1500 minuti sono circa 25 ore) e dei valori minimi in negativo.\n",
    "\n",
    "Verifico."
   ]
  },
  {
   "cell_type": "code",
   "execution_count": 29,
   "id": "abe5c96f",
   "metadata": {},
   "outputs": [
    {
     "data": {
      "text/plain": [
       "(95, 17)"
      ]
     },
     "execution_count": 29,
     "metadata": {},
     "output_type": "execute_result"
    }
   ],
   "source": [
    "#filtro i dati per le durate sotto i 0 minuti\n",
    "divvy_ride_neg = divvy[divvy[\"ride_duration\"] < 0]\n",
    "divvy_ride_neg.shape"
   ]
  },
  {
   "cell_type": "markdown",
   "id": "988d9f8e",
   "metadata": {},
   "source": [
    "Posso procedere a elimanare queste voci e le durate di viaggio inferiori a 1 minuto che rientrano in test, manutenzione o false partenze."
   ]
  },
  {
   "cell_type": "code",
   "execution_count": 30,
   "id": "c64549d1",
   "metadata": {},
   "outputs": [],
   "source": [
    "#filtro i dati per le durate superiori o uguali a 1 minuto\n",
    "\n",
    "divvy = divvy[divvy['ride_duration'] >= 1]\n"
   ]
  },
  {
   "cell_type": "markdown",
   "id": "ea373ca9",
   "metadata": {},
   "source": [
    "Controllo la distribuzione degli altri dati."
   ]
  },
  {
   "cell_type": "code",
   "execution_count": 31,
   "id": "b459fd74",
   "metadata": {},
   "outputs": [
    {
     "data": {
      "image/png": "[encoded data removed]",
      "text/plain": [
       "<Figure size 640x480 with 1 Axes>"
      ]
     },
     "metadata": {},
     "output_type": "display_data"
    }
   ],
   "source": [
    "#istogramm dei valori in ride_duration\n",
    "divvy['ride_duration'].hist(bins=50)\n",
    "plt.show()"
   ]
  },
  {
   "cell_type": "markdown",
   "id": "64430881",
   "metadata": {},
   "source": [
    "Mantengo soltanto i valori con corse che vanno fino ad un massimo di 120 minuti."
   ]
  },
  {
   "cell_type": "code",
   "execution_count": 32,
   "id": "b2444ae4",
   "metadata": {},
   "outputs": [],
   "source": [
    "# aggiorno il dataset con soli valori inferiori o uguali a 120 minuti\n",
    "divvy = divvy[divvy[\"ride_duration\"] <= 120]"
   ]
  },
  {
   "cell_type": "markdown",
   "id": "ab7e0304",
   "metadata": {},
   "source": [
    "**Creazione categorie di durata di viaggio**"
   ]
  },
  {
   "cell_type": "code",
   "execution_count": 33,
   "id": "011cf42e",
   "metadata": {},
   "outputs": [
    {
     "name": "stdout",
     "output_type": "stream",
     "text": [
      "ride_duration_category\n",
      "Medie (6-15 min)            2839080\n",
      "Lunghe (16-30 min)          1193744\n",
      "Brevi (2-5 min)             1000200\n",
      "Molto lunghe (31-60 min)     431113\n",
      "Molto brevi (<2 min)         111144\n",
      "Lunghissime (61-120 min)     111075\n",
      "Name: count, dtype: int64\n"
     ]
    }
   ],
   "source": [
    "# Nuovi intervalli e etichette per includere la categoria \"molto brevi\"\n",
    "bins = [0, 2, 5, 15, 30, 60, 120]\n",
    "labels = ['Molto brevi (<2 min)', 'Brevi (2-5 min)', 'Medie (6-15 min)', 'Lunghe (16-30 min)', 'Molto lunghe (31-60 min)', 'Lunghissime (61-120 min)']\n",
    "\n",
    "divvy['ride_duration_category'] = pd.cut(\n",
    "    divvy['ride_duration'],\n",
    "    bins=bins,\n",
    "    labels=labels,\n",
    "    right=False,\n",
    "    include_lowest=True\n",
    ")\n",
    "\n",
    "print(divvy['ride_duration_category'].value_counts())"
   ]
  },
  {
   "cell_type": "markdown",
   "id": "d8b262c9",
   "metadata": {},
   "source": [
    "## 3. Esportazione DataFrame e prossimi passi"
   ]
  },
  {
   "cell_type": "markdown",
   "id": "e3ffb779",
   "metadata": {},
   "source": [
    "### 3.1 Esportazione DataFrame"
   ]
  },
  {
   "cell_type": "markdown",
   "id": "93524f8f",
   "metadata": {},
   "source": [
    "Per mantenere le formattazioni invariate e poter lavorare direttamente con un dataframe pulito, esporto il dataframe in formato `parquet`."
   ]
  },
  {
   "cell_type": "code",
   "execution_count": 34,
   "id": "2142608b",
   "metadata": {},
   "outputs": [],
   "source": [
    "# esporto il dataframe in formato paquet\n",
    "divvy.to_parquet('divvy_clean.parquet', index=False)"
   ]
  },
  {
   "cell_type": "markdown",
   "id": "d49eea97",
   "metadata": {},
   "source": [
    "### 3.2 Conclusione e Prossimi Passi\n",
    "In questo notebook, ho completato tutte le fasi di pulizia ed elaborazione dei dati del mio dataset Divvy. Ho gestito i valori mancanti, creato nuove colonne informative come ride_duration, month, weekday, hour e time_of_day, e ho preparato il set di dati per un'analisi approfondita.\n",
    "\n",
    "Per non dover ripetere questi passaggi, ho salvato il DataFrame pulito nel file divvy_clean.parquet.\n",
    "\n",
    "Nel [prossimo notebook](), userò questo set di dati pulito per esplorare le abitudini di utilizzo del servizio di bike sharing e trarre conclusioni significative attraverso l'analisi esplorativa dei dati (EDA) e la visualizzazione dei dati."
   ]
  }
 ],
 "metadata": {
  "kernelspec": {
   "display_name": "pydata-book",
   "language": "python",
   "name": "python3"
  },
  "language_info": {
   "codemirror_mode": {
    "name": "ipython",
    "version": 3
   },
   "file_extension": ".py",
   "mimetype": "text/x-python",
   "name": "python",
   "nbconvert_exporter": "python",
   "pygments_lexer": "ipython3",
   "version": "3.10.18"
  }
 },
 "nbformat": 4,
 "nbformat_minor": 5
}
